{
 "cells": [
  {
   "cell_type": "code",
   "execution_count": 1,
   "metadata": {},
   "outputs": [],
   "source": [
    "import cv2"
   ]
  },
  {
   "cell_type": "markdown",
   "metadata": {},
   "source": [
    "write code to open camera through python"
   ]
  },
  {
   "cell_type": "code",
   "execution_count": null,
   "metadata": {},
   "outputs": [],
   "source": [
    "\n",
    "# Open the video capture\n",
    "video_cap = cv2.VideoCapture(0)  # Use 0 for the default camera, or replace with video file path\n",
    "\n",
    "# Check if the camera or video file is opened successfully\n",
    "if not video_cap.isOpened():\n",
    "    print(\"Error: Could not open video source.\")\n",
    "    exit()\n",
    "\n",
    "while True:\n",
    "    ret, video = video_cap.read()  # ret is a boolean indicating success\n",
    "    if not ret:  # If frame reading fails\n",
    "        print(\"Error: Could not read frame from video source.\")\n",
    "        break\n",
    "    \n",
    "    cv2.imshow(\"Live Camera\", video)  # Display the video frame\n",
    "    \n",
    "    # Break the loop when the user presses 'a'\n",
    "    if cv2.waitKey(10) == 27:\n",
    "        break\n",
    "\n",
    "# Release resources\n",
    "video_cap.release()\n",
    "cv2.destroyAllWindows()\n"
   ]
  },
  {
   "cell_type": "markdown",
   "metadata": {},
   "source": [
    "code to detect face in on camera"
   ]
  },
  {
   "cell_type": "code",
   "execution_count": null,
   "metadata": {},
   "outputs": [],
   "source": [
    "# loading haarcascade file with file path\n",
    "face_capture = cv2.CascadeClassifier(\"C:/Users/KKT/AppData/Local/Packages/PythonSoftwareFoundation.Python.3.10_qbz5n2kfra8p0/LocalCache/local-packages/Python310/site-packages/cv2/data/haarcascade_frontalface_default.xml\")"
   ]
  },
  {
   "cell_type": "code",
   "execution_count": null,
   "metadata": {},
   "outputs": [],
   "source": [
    "\n",
    "# using cv2 to Load Haar cascade for face detection\n",
    "face_capture = cv2.CascadeClassifier(cv2.data.haarcascades + 'haarcascade_frontalface_default.xml')\n",
    "\n",
    "\n",
    "# Open the video capture\n",
    "video_cap = cv2.VideoCapture(0)  # Use 0 for the default camera, or replace with video file path\n",
    "\n",
    "# Check if the camera or video file is opened successfully\n",
    "if not video_cap.isOpened():\n",
    "    print(\"Error: Could not open video source.\")\n",
    "    exit()\n",
    "\n",
    "while True:\n",
    "    ret, video = video_cap.read()  # ret is a boolean indicating success\n",
    "    if not ret:  # If frame reading fails\n",
    "        print(\"Error: Could not read frame from video source.\")\n",
    "        break\n",
    "    # Convert frame to grayscale (required for Haar cascade)\n",
    "    gray = cv2.cvtColor(video, cv2.COLOR_BGR2GRAY)\n",
    "\n",
    "    # Detect faces in the frame\n",
    "    face = face_capture.detectMultiScale(\n",
    "        gray,  # Pass the grayscale image\n",
    "        scaleFactor=1.1,\n",
    "        minNeighbors=5,\n",
    "        minSize=(30,30),\n",
    "        flags=cv2.CASCADE_SCALE_IMAGE\n",
    "    )\n",
    "    \n",
    "    # Draw rectangles around detected faces\n",
    "    for (x,y,w,h) in face:\n",
    "        cv2.rectangle(video,(x,y),(x+w,y+h),(255,0,0),2)\n",
    "    \n",
    "\n",
    "    cv2.imshow(\"Live Camera\", video)  # Display the video frame\n",
    "    \n",
    "    # Break the loop when the user presses 'esc key'\n",
    "    if cv2.waitKey(10) == 27: # 27 = ASCII code for the Escape key\n",
    "        break\n",
    "\n",
    "# Release resources\n",
    "video_cap.release()\n",
    "cv2.destroyAllWindows()\n"
   ]
  }
 ],
 "metadata": {
  "kernelspec": {
   "display_name": "Python 3",
   "language": "python",
   "name": "python3"
  },
  "language_info": {
   "codemirror_mode": {
    "name": "ipython",
    "version": 3
   },
   "file_extension": ".py",
   "mimetype": "text/x-python",
   "name": "python",
   "nbconvert_exporter": "python",
   "pygments_lexer": "ipython3",
   "version": "3.10.11"
  }
 },
 "nbformat": 4,
 "nbformat_minor": 2
}
